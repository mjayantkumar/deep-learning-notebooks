{
 "cells": [
  {
   "cell_type": "code",
   "execution_count": 7,
   "metadata": {
    "cellView": "both",
    "colab": {
     "autoexec": {
      "startup": false,
      "wait_interval": 0
     }
    },
    "colab_type": "code",
    "collapsed": true,
    "id": "JLpLa8Jt7Vu4"
   },
   "outputs": [],
   "source": [
    "from __future__ import print_function\n",
    "import numpy as np\n",
    "import tensorflow as tf\n",
    "from six.moves import cPickle as pickle"
   ]
  },
  {
   "cell_type": "code",
   "execution_count": 8,
   "metadata": {
    "cellView": "both",
    "colab": {
     "autoexec": {
      "startup": false,
      "wait_interval": 0
     },
     "output_extras": [
      {
       "item_id": 1
      }
     ]
    },
    "colab_type": "code",
    "collapsed": false,
    "executionInfo": {
     "elapsed": 11777,
     "status": "ok",
     "timestamp": 1449849322348,
     "user": {
      "color": "",
      "displayName": "",
      "isAnonymous": false,
      "isMe": true,
      "permissionId": "",
      "photoUrl": "",
      "sessionId": "0",
      "userId": ""
     },
     "user_tz": 480
    },
    "id": "y3-cj1bpmuxc",
    "outputId": "e03576f1-ebbe-4838-c388-f1777bcc9873"
   },
   "outputs": [
    {
     "name": "stdout",
     "output_type": "stream",
     "text": [
      "Training set (200000, 28, 28) (200000,)\n",
      "Validation set (10000, 28, 28) (10000,)\n",
      "Test set (10000, 28, 28) (10000,)\n"
     ]
    }
   ],
   "source": [
    "pickle_file = '/Users/rringham/Projects/TensorFlow/tensorflow/tensorflow/examples/udacity/notMNIST.pickle'\n",
    "\n",
    "with open(pickle_file, 'rb') as f:\n",
    "  save = pickle.load(f)\n",
    "  train_dataset = save['train_dataset']\n",
    "  train_labels = save['train_labels']\n",
    "  valid_dataset = save['valid_dataset']\n",
    "  valid_labels = save['valid_labels']\n",
    "  test_dataset = save['test_dataset']\n",
    "  test_labels = save['test_labels']\n",
    "  del save  # hint to help gc free up memory\n",
    "  print('Training set', train_dataset.shape, train_labels.shape)\n",
    "  print('Validation set', valid_dataset.shape, valid_labels.shape)\n",
    "  print('Test set', test_dataset.shape, test_labels.shape)"
   ]
  },
  {
   "cell_type": "code",
   "execution_count": 9,
   "metadata": {
    "cellView": "both",
    "colab": {
     "autoexec": {
      "startup": false,
      "wait_interval": 0
     },
     "output_extras": [
      {
       "item_id": 1
      }
     ]
    },
    "colab_type": "code",
    "collapsed": false,
    "executionInfo": {
     "elapsed": 11728,
     "status": "ok",
     "timestamp": 1449849322356,
     "user": {
      "color": "",
      "displayName": "",
      "isAnonymous": false,
      "isMe": true,
      "permissionId": "",
      "photoUrl": "",
      "sessionId": "0",
      "userId": ""
     },
     "user_tz": 480
    },
    "id": "IRSyYiIIGIzS",
    "outputId": "3f8996ee-3574-4f44-c953-5c8a04636582"
   },
   "outputs": [
    {
     "name": "stdout",
     "output_type": "stream",
     "text": [
      "Training set (200000, 784) (200000, 10)\n",
      "Validation set (10000, 784) (10000, 10)\n",
      "Test set (10000, 784) (10000, 10)\n"
     ]
    }
   ],
   "source": [
    "image_size = 28\n",
    "num_labels = 10\n",
    "\n",
    "def reformat(dataset, labels):\n",
    "  dataset = dataset.reshape((-1, image_size * image_size)).astype(np.float32)\n",
    "  # Map 2 to [0.0, 1.0, 0.0 ...], 3 to [0.0, 0.0, 1.0 ...]\n",
    "  labels = (np.arange(num_labels) == labels[:,None]).astype(np.float32)\n",
    "  return dataset, labels\n",
    "train_dataset, train_labels = reformat(train_dataset, train_labels)\n",
    "valid_dataset, valid_labels = reformat(valid_dataset, valid_labels)\n",
    "test_dataset, test_labels = reformat(test_dataset, test_labels)\n",
    "print('Training set', train_dataset.shape, train_labels.shape)\n",
    "print('Validation set', valid_dataset.shape, valid_labels.shape)\n",
    "print('Test set', test_dataset.shape, test_labels.shape)"
   ]
  },
  {
   "cell_type": "code",
   "execution_count": 10,
   "metadata": {
    "cellView": "both",
    "colab": {
     "autoexec": {
      "startup": false,
      "wait_interval": 0
     }
    },
    "colab_type": "code",
    "collapsed": true,
    "id": "RajPLaL_ZW6w"
   },
   "outputs": [],
   "source": [
    "def accuracy(predictions, labels):\n",
    "  return (100.0 * np.sum(np.argmax(predictions, 1) == np.argmax(labels, 1))\n",
    "          / predictions.shape[0])"
   ]
  },
  {
   "cell_type": "markdown",
   "metadata": {
    "colab_type": "text",
    "id": "-b1hTz3VWZjw"
   },
   "source": [
    "Notes\n",
    "---------\n",
    "\n",
    "With two hidden layers, the best accuracy I've been able to get on the test set below is roughly 90%:\n",
    "  - *h1:* 1024 neurons\n",
    "  - *h2:* 1024 neurons\n",
    "  - *h3:* 305 neurons\n",
    "  - *h4:* 75 neurons\n",
    "  - Each set of weights initialized with **stddev**=sqrt(2/n), where n = # of neurons in previous layer\n",
    "  - No dropout\n",
    " \n",
    " ---\n"
   ]
  },
  {
   "cell_type": "code",
   "execution_count": 19,
   "metadata": {
    "collapsed": false
   },
   "outputs": [],
   "source": [
    "import math as math\n",
    "\n",
    "batch_size = 1\n",
    "initial_learning_rate_value = 0.5\n",
    "beta1 = 0.001\n",
    "beta2 = 0.001\n",
    "beta3 = 0.001\n",
    "beta4 = 0.001\n",
    "beta5 = 0.001\n",
    "\n",
    "graph = tf.Graph()\n",
    "with graph.as_default():\n",
    "\n",
    "  # Input data. For the training data, we use a placeholder that will be fed\n",
    "  # at run time with a training minibatch.\n",
    "  tf_train_dataset = tf.placeholder(tf.float32, shape=(batch_size, image_size * image_size))\n",
    "  tf_train_labels = tf.placeholder(tf.float32, shape=(batch_size, num_labels))\n",
    "  tf_valid_dataset = tf.constant(valid_dataset)\n",
    "  tf_test_dataset = tf.constant(test_dataset)    \n",
    "    \n",
    "  # learning rate decay\n",
    "  global_step = tf.Variable(0)\n",
    "  learning_rate = tf.train.exponential_decay(initial_learning_rate_value, global_step, 1, 0.9999)\n",
    "\n",
    "  # Variables\n",
    "  h1_size = 1024  \n",
    "  h2_size = 1024\n",
    "  h3_size = 305\n",
    "  h4_size = 75\n",
    "    \n",
    "  weights_h1 = tf.Variable(tf.truncated_normal([image_size * image_size, h1_size], stddev=math.sqrt(2.0/(image_size*image_size))))\n",
    "  biases_h1 = tf.Variable(tf.zeros([h1_size]))\n",
    "    \n",
    "  weights_h2 = tf.Variable(tf.truncated_normal([h1_size, h2_size], stddev=math.sqrt(2.0/h1_size)))\n",
    "  biases_h2 = tf.Variable(tf.zeros([h2_size]))\n",
    "\n",
    "  weights_h3 = tf.Variable(tf.truncated_normal([h2_size, h3_size], stddev=math.sqrt(2.0/h2_size)))\n",
    "  biases_h3 = tf.Variable(tf.zeros([h3_size]))\n",
    "\n",
    "  weights_h4 = tf.Variable(tf.truncated_normal([h3_size, h4_size], stddev=math.sqrt(2.0/h3_size)))\n",
    "  biases_h4 = tf.Variable(tf.zeros([h4_size]))\n",
    "    \n",
    "  weights_o = tf.Variable(tf.truncated_normal([h4_size, num_labels], stddev=math.sqrt(2.0/h4_size)))\n",
    "  biases_o = tf.Variable(tf.zeros([num_labels]))  \n",
    "\n",
    "  # Model.\n",
    "  def model(data):\n",
    "    h1 = tf.nn.relu(tf.matmul(data, weights_h1) + biases_h1)\n",
    "    h2 = tf.nn.relu(tf.matmul(h1, weights_h2) + biases_h2)\n",
    "    h3 = tf.nn.relu(tf.matmul(h2, weights_h3) + biases_h3)\n",
    "    h4 = tf.nn.relu(tf.matmul(h3, weights_h4) + biases_h4)\n",
    "    return tf.matmul(h4, weights_o) + biases_o\n",
    "    \n",
    "  # Training computation.\n",
    "  logits = model(tf_train_dataset)\n",
    "  loss = tf.reduce_mean(\n",
    "    tf.nn.softmax_cross_entropy_with_logits(logits, tf_train_labels)) + ((beta1 * tf.nn.l2_loss(weights_h1)) + (beta2 * tf.nn.l2_loss(weights_h2)) + (beta3 * tf.nn.l2_loss(weights_h3)) + (beta4 * tf.nn.l2_loss(weights_h4)) + (beta5 * tf.nn.l2_loss(weights_o)))\n",
    "  \n",
    "  # Optimizer.\n",
    "  optimizer = tf.train.GradientDescentOptimizer(learning_rate).minimize(loss, global_step=global_step)\n",
    "\n",
    "  # Predictions for the training, validation, and test data.  \n",
    "  train_prediction = tf.nn.softmax(model(tf_train_dataset))  \n",
    "  valid_prediction = tf.nn.softmax(model(tf_valid_dataset))\n",
    "  test_prediction = tf.nn.softmax(model(tf_test_dataset))"
   ]
  },
  {
   "cell_type": "code",
   "execution_count": null,
   "metadata": {
    "collapsed": false
   },
   "outputs": [
    {
     "name": "stdout",
     "output_type": "stream",
     "text": [
      "Initialized\n",
      "Minibatch loss at step 0: 4.682405\n",
      "Learning rate at step 0: 0.499950\n",
      "Minibatch accuracy: 0.0%\n",
      "Validation accuracy: 10.0%\n",
      "\n",
      "Minibatch loss at step 1: 53.765388\n",
      "Learning rate at step 1: 0.499900\n",
      "Minibatch accuracy: 0.0%\n",
      "Validation accuracy: 10.0%\n",
      "\n",
      "Minibatch loss at step 2: 1385.730225\n",
      "Learning rate at step 2: 0.499850\n",
      "Minibatch accuracy: 0.0%\n",
      "Validation accuracy: 10.0%\n",
      "\n",
      "Minibatch loss at step 3: 8224031.500000\n",
      "Learning rate at step 3: 0.499800\n",
      "Minibatch accuracy: 0.0%\n",
      "Validation accuracy: 10.0%\n",
      "\n",
      "Minibatch loss at step 4: 10606649370738688.000000\n",
      "Learning rate at step 4: 0.499750\n",
      "Minibatch accuracy: 0.0%\n",
      "Validation accuracy: 10.0%\n",
      "\n",
      "Minibatch loss at step 5: nan\n",
      "Learning rate at step 5: 0.499700\n",
      "Minibatch accuracy: 0.0%\n",
      "Validation accuracy: 10.0%\n",
      "\n",
      "Minibatch loss at step 6: nan\n",
      "Learning rate at step 6: 0.499650\n",
      "Minibatch accuracy: 0.0%\n",
      "Validation accuracy: 10.0%\n",
      "\n",
      "Minibatch loss at step 7: nan\n",
      "Learning rate at step 7: 0.499600\n",
      "Minibatch accuracy: 0.0%\n",
      "Validation accuracy: 10.0%\n",
      "\n",
      "Minibatch loss at step 8: nan\n",
      "Learning rate at step 8: 0.499550\n",
      "Minibatch accuracy: 0.0%\n",
      "Validation accuracy: 10.0%\n",
      "\n",
      "Minibatch loss at step 9: nan\n",
      "Learning rate at step 9: 0.499500\n",
      "Minibatch accuracy: 0.0%\n",
      "Validation accuracy: 10.0%\n",
      "\n",
      "Minibatch loss at step 10: nan\n",
      "Learning rate at step 10: 0.499450\n",
      "Minibatch accuracy: 0.0%\n",
      "Validation accuracy: 10.0%\n",
      "\n",
      "Minibatch loss at step 11: nan\n",
      "Learning rate at step 11: 0.499400\n",
      "Minibatch accuracy: 0.0%\n",
      "Validation accuracy: 10.0%\n",
      "\n",
      "Minibatch loss at step 12: nan\n",
      "Learning rate at step 12: 0.499350\n",
      "Minibatch accuracy: 100.0%\n",
      "Validation accuracy: 10.0%\n",
      "\n",
      "Minibatch loss at step 13: nan\n",
      "Learning rate at step 13: 0.499300\n",
      "Minibatch accuracy: 0.0%\n",
      "Validation accuracy: 10.0%\n",
      "\n",
      "Minibatch loss at step 14: nan\n",
      "Learning rate at step 14: 0.499250\n",
      "Minibatch accuracy: 0.0%\n",
      "Validation accuracy: 10.0%\n",
      "\n",
      "Minibatch loss at step 15: nan\n",
      "Learning rate at step 15: 0.499200\n",
      "Minibatch accuracy: 100.0%\n",
      "Validation accuracy: 10.0%\n",
      "\n",
      "Minibatch loss at step 16: nan\n",
      "Learning rate at step 16: 0.499151\n",
      "Minibatch accuracy: 0.0%\n",
      "Validation accuracy: 10.0%\n",
      "\n",
      "Minibatch loss at step 17: nan\n",
      "Learning rate at step 17: 0.499101\n",
      "Minibatch accuracy: 0.0%\n",
      "Validation accuracy: 10.0%\n",
      "\n",
      "Minibatch loss at step 18: nan\n",
      "Learning rate at step 18: 0.499051\n",
      "Minibatch accuracy: 0.0%\n",
      "Validation accuracy: 10.0%\n",
      "\n",
      "Minibatch loss at step 19: nan\n",
      "Learning rate at step 19: 0.499001\n",
      "Minibatch accuracy: 0.0%\n",
      "Validation accuracy: 10.0%\n",
      "\n",
      "Minibatch loss at step 20: nan\n",
      "Learning rate at step 20: 0.498951\n",
      "Minibatch accuracy: 0.0%\n",
      "Validation accuracy: 10.0%\n",
      "\n",
      "Minibatch loss at step 21: nan\n",
      "Learning rate at step 21: 0.498901\n",
      "Minibatch accuracy: 0.0%\n",
      "Validation accuracy: 10.0%\n",
      "\n",
      "Minibatch loss at step 22: nan\n",
      "Learning rate at step 22: 0.498851\n",
      "Minibatch accuracy: 0.0%\n",
      "Validation accuracy: 10.0%\n",
      "\n",
      "Minibatch loss at step 23: nan\n",
      "Learning rate at step 23: 0.498801\n",
      "Minibatch accuracy: 0.0%\n",
      "Validation accuracy: 10.0%\n",
      "\n",
      "Minibatch loss at step 24: nan\n",
      "Learning rate at step 24: 0.498751\n",
      "Minibatch accuracy: 0.0%\n",
      "Validation accuracy: 10.0%\n",
      "\n",
      "Minibatch loss at step 25: nan\n",
      "Learning rate at step 25: 0.498701\n",
      "Minibatch accuracy: 0.0%\n",
      "Validation accuracy: 10.0%\n",
      "\n",
      "Minibatch loss at step 26: nan\n",
      "Learning rate at step 26: 0.498652\n",
      "Minibatch accuracy: 0.0%\n",
      "Validation accuracy: 10.0%\n",
      "\n",
      "Minibatch loss at step 27: nan\n",
      "Learning rate at step 27: 0.498602\n",
      "Minibatch accuracy: 0.0%\n",
      "Validation accuracy: 10.0%\n",
      "\n",
      "Minibatch loss at step 28: nan\n",
      "Learning rate at step 28: 0.498552\n",
      "Minibatch accuracy: 0.0%\n",
      "Validation accuracy: 10.0%\n",
      "\n",
      "Minibatch loss at step 29: nan\n",
      "Learning rate at step 29: 0.498502\n",
      "Minibatch accuracy: 0.0%\n",
      "Validation accuracy: 10.0%\n",
      "\n",
      "Minibatch loss at step 30: nan\n",
      "Learning rate at step 30: 0.498452\n",
      "Minibatch accuracy: 0.0%\n",
      "Validation accuracy: 10.0%\n",
      "\n",
      "Minibatch loss at step 31: nan\n",
      "Learning rate at step 31: 0.498402\n",
      "Minibatch accuracy: 0.0%\n",
      "Validation accuracy: 10.0%\n",
      "\n",
      "Minibatch loss at step 32: nan\n",
      "Learning rate at step 32: 0.498352\n",
      "Minibatch accuracy: 0.0%\n",
      "Validation accuracy: 10.0%\n",
      "\n",
      "Minibatch loss at step 33: nan\n",
      "Learning rate at step 33: 0.498303\n",
      "Minibatch accuracy: 0.0%\n",
      "Validation accuracy: 10.0%\n",
      "\n",
      "Minibatch loss at step 34: nan\n",
      "Learning rate at step 34: 0.498253\n",
      "Minibatch accuracy: 0.0%\n",
      "Validation accuracy: 10.0%\n",
      "\n",
      "Minibatch loss at step 35: nan\n",
      "Learning rate at step 35: 0.498203\n",
      "Minibatch accuracy: 0.0%\n",
      "Validation accuracy: 10.0%\n",
      "\n",
      "Minibatch loss at step 36: nan\n",
      "Learning rate at step 36: 0.498153\n",
      "Minibatch accuracy: 0.0%\n",
      "Validation accuracy: 10.0%\n"
     ]
    }
   ],
   "source": [
    "num_steps = 50\n",
    "\n",
    "with tf.Session(graph=graph) as session:\n",
    "  tf.initialize_all_variables().run()\n",
    "  print(\"Initialized\")\n",
    "  for step in range(num_steps):\n",
    "    # Pick an offset within the training data, which has been randomized.\n",
    "    # Note: we could use better randomization across epochs.\n",
    "    offset = (step * batch_size) % (train_labels.shape[0] - batch_size)\n",
    "    \n",
    "    # Generate a minibatch.\n",
    "    batch_data = train_dataset[offset:(offset + batch_size), :]\n",
    "    batch_labels = train_labels[offset:(offset + batch_size), :]\n",
    "    \n",
    "    # Prepare a dictionary telling the session where to feed the minibatch.\n",
    "    # The key of the dictionary is the placeholder node of the graph to be fed,\n",
    "    # and the value is the numpy array to feed to it.\n",
    "    feed_dict = {tf_train_dataset : batch_data, tf_train_labels : batch_labels}\n",
    "    \n",
    "    _, l, predictions = session.run(\n",
    "      [optimizer, loss, train_prediction], feed_dict=feed_dict)\n",
    "          \n",
    "    print(\"Minibatch loss at step %d: %f\" % (step, l))\n",
    "    print(\"Learning rate at step %d: %f\" % (step, learning_rate.eval()))\n",
    "    print(\"Minibatch accuracy: %.1f%%\" % accuracy(predictions, batch_labels))\n",
    "    print(\"Validation accuracy: %.1f%%\\n\" % accuracy(valid_prediction.eval(), valid_labels))\n",
    "\n",
    "\n",
    "#   for step in range(num_steps):\n",
    "#     # Pick an offset within the training data, which has been randomized.\n",
    "#     # Note: we could use better randomization across epochs.\n",
    "#     offset = (step * batch_size) % (train_labels.shape[0] - batch_size)\n",
    "    \n",
    "#     # Generate a minibatch.\n",
    "#     batch_data = train_dataset[offset:(offset + batch_size), :]\n",
    "#     batch_labels = train_labels[offset:(offset + batch_size), :]\n",
    "    \n",
    "#     # Prepare a dictionary telling the session where to feed the minibatch.\n",
    "#     # The key of the dictionary is the placeholder node of the graph to be fed,\n",
    "#     # and the value is the numpy array to feed to it.\n",
    "#     feed_dict = {tf_train_dataset : batch_data, tf_train_labels : batch_labels}\n",
    "    \n",
    "#     _, l, predictions = session.run(\n",
    "#       [optimizer, loss, train_prediction], feed_dict=feed_dict)\n",
    "    \n",
    "#     if (step % 500 == 0):\n",
    "#       print(\"Minibatch loss at step %d: %f\" % (step, l))\n",
    "#       print(\"Learning rate at step %d: %f\" % (step, learning_rate.eval()))\n",
    "#       print(\"Minibatch accuracy: %.1f%%\" % accuracy(predictions, batch_labels))\n",
    "#       print(\"Validation accuracy: %.1f%%\\n\" % accuracy(\n",
    "#         valid_prediction.eval(), valid_labels))\n",
    "        \n",
    "#     if (step % 2000 == 0):\n",
    "#       print(\"Test accuracy: %.1f%%\\n\" % accuracy(test_prediction.eval(), test_labels))\n",
    "        \n",
    "  print(\"Final test accuracy: %.1f%%\\n\" % accuracy(test_prediction.eval(), test_labels))"
   ]
  },
  {
   "cell_type": "code",
   "execution_count": null,
   "metadata": {
    "collapsed": true
   },
   "outputs": [],
   "source": []
  },
  {
   "cell_type": "code",
   "execution_count": null,
   "metadata": {
    "collapsed": true
   },
   "outputs": [],
   "source": []
  }
 ],
 "metadata": {
  "colab": {
   "default_view": {},
   "name": "3_regularization.ipynb",
   "provenance": [],
   "version": "0.3.2",
   "views": {}
  },
  "kernelspec": {
   "display_name": "Python 2",
   "language": "python",
   "name": "python2"
  },
  "language_info": {
   "codemirror_mode": {
    "name": "ipython",
    "version": 2
   },
   "file_extension": ".py",
   "mimetype": "text/x-python",
   "name": "python",
   "nbconvert_exporter": "python",
   "pygments_lexer": "ipython2",
   "version": "2.7.10"
  }
 },
 "nbformat": 4,
 "nbformat_minor": 0
}
