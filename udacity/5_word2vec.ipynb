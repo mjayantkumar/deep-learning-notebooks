{
 "cells": [
  {
   "cell_type": "markdown",
   "metadata": {
    "colab_type": "text",
    "id": "D7tqLMoKF6uq"
   },
   "source": [
    "Deep Learning\n",
    "=============\n",
    "\n",
    "Assignment 5\n",
    "------------\n",
    "\n",
    "The goal of this assignment is to train a skip-gram model over [Text8](http://mattmahoney.net/dc/textdata) data."
   ]
  },
  {
   "cell_type": "code",
   "execution_count": 1,
   "metadata": {
    "cellView": "both",
    "colab": {
     "autoexec": {
      "startup": false,
      "wait_interval": 0
     }
    },
    "colab_type": "code",
    "collapsed": true,
    "id": "0K1ZyLn04QZf"
   },
   "outputs": [],
   "source": [
    "# These are all the modules we'll be using later. Make sure you can import them\n",
    "# before proceeding further.\n",
    "from __future__ import print_function\n",
    "import collections\n",
    "import math\n",
    "import numpy as np\n",
    "import os\n",
    "import random\n",
    "import tensorflow as tf\n",
    "import zipfile\n",
    "from matplotlib import pylab\n",
    "from six.moves import range\n",
    "from six.moves.urllib.request import urlretrieve\n",
    "from sklearn.manifold import TSNE"
   ]
  },
  {
   "cell_type": "markdown",
   "metadata": {
    "colab_type": "text",
    "id": "aCjPJE944bkV"
   },
   "source": [
    "Download the data from the source website if necessary."
   ]
  },
  {
   "cell_type": "code",
   "execution_count": 2,
   "metadata": {
    "cellView": "both",
    "colab": {
     "autoexec": {
      "startup": false,
      "wait_interval": 0
     },
     "output_extras": [
      {
       "item_id": 1
      }
     ]
    },
    "colab_type": "code",
    "collapsed": false,
    "executionInfo": {
     "elapsed": 14640,
     "status": "ok",
     "timestamp": 1445964482948,
     "user": {
      "color": "#1FA15D",
      "displayName": "Vincent Vanhoucke",
      "isAnonymous": false,
      "isMe": true,
      "permissionId": "05076109866853157986",
      "photoUrl": "//lh6.googleusercontent.com/-cCJa7dTDcgQ/AAAAAAAAAAI/AAAAAAAACgw/r2EZ_8oYer4/s50-c-k-no/photo.jpg",
      "sessionId": "2f1ffade4c9f20de",
      "userId": "102167687554210253930"
     },
     "user_tz": 420
    },
    "id": "RJ-o3UBUFtCw",
    "outputId": "c4ec222c-80b5-4298-e635-93ca9f79c3b7"
   },
   "outputs": [
    {
     "name": "stdout",
     "output_type": "stream",
     "text": [
      "Found and verified text8.zip\n"
     ]
    }
   ],
   "source": [
    "url = 'http://mattmahoney.net/dc/'\n",
    "\n",
    "def maybe_download(filename, expected_bytes):\n",
    "  \"\"\"Download a file if not present, and make sure it's the right size.\"\"\"\n",
    "  if not os.path.exists(filename):\n",
    "    filename, _ = urlretrieve(url + filename, filename)\n",
    "  statinfo = os.stat(filename)\n",
    "  if statinfo.st_size == expected_bytes:\n",
    "    print('Found and verified %s' % filename)\n",
    "  else:\n",
    "    print(statinfo.st_size)\n",
    "    raise Exception(\n",
    "      'Failed to verify ' + filename + '. Can you get to it with a browser?')\n",
    "  return filename\n",
    "\n",
    "filename = maybe_download('text8.zip', 31344016)"
   ]
  },
  {
   "cell_type": "markdown",
   "metadata": {
    "colab_type": "text",
    "id": "Zqz3XiqI4mZT"
   },
   "source": [
    "Read the data into a string."
   ]
  },
  {
   "cell_type": "code",
   "execution_count": 3,
   "metadata": {
    "cellView": "both",
    "colab": {
     "autoexec": {
      "startup": false,
      "wait_interval": 0
     },
     "output_extras": [
      {
       "item_id": 1
      }
     ]
    },
    "colab_type": "code",
    "collapsed": false,
    "executionInfo": {
     "elapsed": 28844,
     "status": "ok",
     "timestamp": 1445964497165,
     "user": {
      "color": "#1FA15D",
      "displayName": "Vincent Vanhoucke",
      "isAnonymous": false,
      "isMe": true,
      "permissionId": "05076109866853157986",
      "photoUrl": "//lh6.googleusercontent.com/-cCJa7dTDcgQ/AAAAAAAAAAI/AAAAAAAACgw/r2EZ_8oYer4/s50-c-k-no/photo.jpg",
      "sessionId": "2f1ffade4c9f20de",
      "userId": "102167687554210253930"
     },
     "user_tz": 420
    },
    "id": "Mvf09fjugFU_",
    "outputId": "e3a928b4-1645-4fe8-be17-fcf47de5716d"
   },
   "outputs": [
    {
     "name": "stdout",
     "output_type": "stream",
     "text": [
      "Data size 17005207\n",
      "word 0: anarchism\n",
      "word 1: originated\n",
      "word 2: as\n",
      "word 17005206: b\n"
     ]
    }
   ],
   "source": [
    "def read_data(filename):\n",
    "  f = zipfile.ZipFile(filename)\n",
    "  for name in f.namelist():\n",
    "    return tf.compat.as_str(f.read(name)).split()\n",
    "  f.close()\n",
    "  \n",
    "words = read_data(filename)\n",
    "print('Data size %d' % len(words))\n",
    "print('word 0: %s' % words[0])\n",
    "print('word 1: %s' % words[1])\n",
    "print('word 2: %s' % words[2])\n",
    "print('word 17005206: %s' % words[17005206])"
   ]
  },
  {
   "cell_type": "markdown",
   "metadata": {
    "colab_type": "text",
    "id": "Zdw6i4F8glpp"
   },
   "source": [
    "Build the dictionary and replace rare words with UNK token."
   ]
  },
  {
   "cell_type": "code",
   "execution_count": 4,
   "metadata": {
    "cellView": "both",
    "colab": {
     "autoexec": {
      "startup": false,
      "wait_interval": 0
     },
     "output_extras": [
      {
       "item_id": 1
      }
     ]
    },
    "colab_type": "code",
    "collapsed": false,
    "executionInfo": {
     "elapsed": 28849,
     "status": "ok",
     "timestamp": 1445964497178,
     "user": {
      "color": "#1FA15D",
      "displayName": "Vincent Vanhoucke",
      "isAnonymous": false,
      "isMe": true,
      "permissionId": "05076109866853157986",
      "photoUrl": "//lh6.googleusercontent.com/-cCJa7dTDcgQ/AAAAAAAAAAI/AAAAAAAACgw/r2EZ_8oYer4/s50-c-k-no/photo.jpg",
      "sessionId": "2f1ffade4c9f20de",
      "userId": "102167687554210253930"
     },
     "user_tz": 420
    },
    "id": "gAL1EECXeZsD",
    "outputId": "3fb4ecd1-df67-44b6-a2dc-2291730970b2"
   },
   "outputs": [
    {
     "name": "stdout",
     "output_type": "stream",
     "text": [
      "Most common words (+UNK) [['UNK', 418391], ('the', 1061396), ('of', 593677), ('and', 416629), ('one', 411764)]\n",
      "Sample data [5239, 3084, 12, 6, 195, 2, 3137, 46, 59, 156]\n",
      "Rev dict: {0: 'UNK', 1: 'the', 2: 'of', 3: 'and', 4: 'one', 5: 'in', 6: 'a', 7: 'to', 8: 'zero', 9: 'nine'}\n",
      "2\n",
      "anarchism\n",
      "originated\n",
      "as\n"
     ]
    }
   ],
   "source": [
    "vocabulary_size = 50000\n",
    "\n",
    "def build_dataset(words):\n",
    "  count = [['UNK', -1]]\n",
    "  count.extend(collections.Counter(words).most_common(vocabulary_size - 1))\n",
    "  dictionary = dict()\n",
    "  for word, _ in count:\n",
    "    dictionary[word] = len(dictionary)\n",
    "  data = list()\n",
    "  unk_count = 0\n",
    "  for word in words:\n",
    "    if word in dictionary:\n",
    "      index = dictionary[word]\n",
    "    else:\n",
    "      index = 0  # dictionary['UNK']\n",
    "      unk_count = unk_count + 1\n",
    "    data.append(index)\n",
    "  count[0][1] = unk_count\n",
    "  reverse_dictionary = dict(zip(dictionary.values(), dictionary.keys())) \n",
    "  return data, count, dictionary, reverse_dictionary\n",
    "\n",
    "data, count, dictionary, reverse_dictionary = build_dataset(words)\n",
    "print('Most common words (+UNK)', count[:5])\n",
    "print('Sample data', data[:10])\n",
    "firstPairs = {k: reverse_dictionary[k] for k in reverse_dictionary.keys()[:10]}\n",
    "print('Rev dict: %s' % firstPairs)\n",
    "print(dictionary['of'])\n",
    "print(reverse_dictionary[5239])\n",
    "print(reverse_dictionary[3084])\n",
    "print(reverse_dictionary[12])\n",
    "del words  # Hint to reduce memory."
   ]
  },
  {
   "cell_type": "markdown",
   "metadata": {
    "colab_type": "text",
    "id": "lFwoyygOmWsL"
   },
   "source": [
    "Function to generate a training batch for the skip-gram model."
   ]
  },
  {
   "cell_type": "code",
   "execution_count": 9,
   "metadata": {
    "cellView": "both",
    "colab": {
     "autoexec": {
      "startup": false,
      "wait_interval": 0
     },
     "output_extras": [
      {
       "item_id": 1
      }
     ]
    },
    "colab_type": "code",
    "collapsed": false,
    "executionInfo": {
     "elapsed": 113,
     "status": "ok",
     "timestamp": 1445964901989,
     "user": {
      "color": "#1FA15D",
      "displayName": "Vincent Vanhoucke",
      "isAnonymous": false,
      "isMe": true,
      "permissionId": "05076109866853157986",
      "photoUrl": "//lh6.googleusercontent.com/-cCJa7dTDcgQ/AAAAAAAAAAI/AAAAAAAACgw/r2EZ_8oYer4/s50-c-k-no/photo.jpg",
      "sessionId": "2f1ffade4c9f20de",
      "userId": "102167687554210253930"
     },
     "user_tz": 420
    },
    "id": "w9APjA-zmfjV",
    "outputId": "67cccb02-cdaf-4e47-d489-43bcc8d57bb8"
   },
   "outputs": [
    {
     "name": "stdout",
     "output_type": "stream",
     "text": [
      "data: ['anarchism', 'originated', 'as', 'a', 'term', 'of', 'abuse', 'first']\n",
      "\n",
      "with num_skips = 2 and skip_window = 1:\n",
      "    batch: ['originated', 'originated', 'as', 'as', 'a', 'a', 'term', 'term']\n",
      "    labels: ['anarchism', 'as', 'a', 'originated', 'as', 'term', 'a', 'of']\n",
      "\n",
      "with num_skips = 4 and skip_window = 2:\n",
      "    batch: ['as', 'as', 'as', 'as', 'a', 'a', 'a', 'a']\n",
      "    labels: ['originated', 'term', 'anarchism', 'a', 'of', 'as', 'originated', 'term']\n"
     ]
    }
   ],
   "source": [
    "data_index = 0\n",
    "\n",
    "def generate_batch(batch_size, num_skips, skip_window):\n",
    "  global data_index\n",
    "  assert batch_size % num_skips == 0\n",
    "  assert num_skips <= 2 * skip_window\n",
    "  batch = np.ndarray(shape=(batch_size), dtype=np.int32)\n",
    "  labels = np.ndarray(shape=(batch_size, 1), dtype=np.int32)\n",
    "  span = 2 * skip_window + 1 # [ skip_window target skip_window ]\n",
    "  buffer = collections.deque(maxlen=span)\n",
    "  for _ in range(span):\n",
    "    buffer.append(data[data_index])\n",
    "    data_index = (data_index + 1) % len(data)\n",
    "  for i in range(batch_size // num_skips):\n",
    "    target = skip_window  # target label at the center of the buffer\n",
    "    targets_to_avoid = [ skip_window ]\n",
    "    for j in range(num_skips):\n",
    "      while target in targets_to_avoid:\n",
    "        target = random.randint(0, span - 1)\n",
    "      targets_to_avoid.append(target)\n",
    "      batch[i * num_skips + j] = buffer[skip_window]\n",
    "      labels[i * num_skips + j, 0] = buffer[target]\n",
    "    buffer.append(data[data_index])\n",
    "    data_index = (data_index + 1) % len(data)\n",
    "  return batch, labels\n",
    "\n",
    "print('data:', [reverse_dictionary[di] for di in data[:8]])\n",
    "\n",
    "for num_skips, skip_window in [(2, 1), (4, 2)]:\n",
    "    data_index = 0\n",
    "    batch, labels = generate_batch(batch_size=8, num_skips=num_skips, skip_window=skip_window)\n",
    "    print('\\nwith num_skips = %d and skip_window = %d:' % (num_skips, skip_window))\n",
    "    print('    batch:', [reverse_dictionary[bi] for bi in batch])\n",
    "    print('    labels:', [reverse_dictionary[li] for li in labels.reshape(8)])"
   ]
  },
  {
   "cell_type": "markdown",
   "metadata": {
    "colab_type": "text",
    "id": "Ofd1MbBuwiva"
   },
   "source": [
    "Train a skip-gram model."
   ]
  },
  {
   "cell_type": "code",
   "execution_count": 10,
   "metadata": {
    "cellView": "both",
    "colab": {
     "autoexec": {
      "startup": false,
      "wait_interval": 0
     }
    },
    "colab_type": "code",
    "collapsed": true,
    "id": "8pQKsV4Vwlzy"
   },
   "outputs": [],
   "source": [
    "batch_size = 128\n",
    "embedding_size = 128 # Dimension of the embedding vector.\n",
    "skip_window = 1 # How many words to consider left and right.\n",
    "num_skips = 2 # How many times to reuse an input to generate a label.\n",
    "# We pick a random validation set to sample nearest neighbors. here we limit the\n",
    "# validation samples to the words that have a low numeric ID, which by\n",
    "# construction are also the most frequent. \n",
    "valid_size = 16 # Random set of words to evaluate similarity on.\n",
    "valid_window = 100 # Only pick dev samples in the head of the distribution.\n",
    "valid_examples = np.array(random.sample(range(valid_window), valid_size))\n",
    "num_sampled = 64 # Number of negative examples to sample.\n",
    "\n",
    "graph = tf.Graph()\n",
    "\n",
    "with graph.as_default():\n",
    "\n",
    "  # Input data.\n",
    "  train_dataset = tf.placeholder(tf.int32, shape=[batch_size])\n",
    "  train_labels = tf.placeholder(tf.int32, shape=[batch_size, 1])\n",
    "  valid_dataset = tf.constant(valid_examples, dtype=tf.int32)\n",
    "  \n",
    "  # Variables.\n",
    "  embeddings = tf.Variable(\n",
    "    tf.random_uniform([vocabulary_size, embedding_size], -1.0, 1.0))\n",
    "  softmax_weights = tf.Variable(\n",
    "    tf.truncated_normal([vocabulary_size, embedding_size],\n",
    "                         stddev=1.0 / math.sqrt(embedding_size)))\n",
    "  softmax_biases = tf.Variable(tf.zeros([vocabulary_size]))\n",
    "  \n",
    "  # Model.\n",
    "  # Look up embeddings for inputs.\n",
    "  embed = tf.nn.embedding_lookup(embeddings, train_dataset)\n",
    "  # Compute the softmax loss, using a sample of the negative labels each time.\n",
    "  loss = tf.reduce_mean(\n",
    "    tf.nn.sampled_softmax_loss(softmax_weights, softmax_biases, embed,\n",
    "                               train_labels, num_sampled, vocabulary_size))\n",
    "\n",
    "  # Optimizer.\n",
    "  optimizer = tf.train.AdagradOptimizer(1.0).minimize(loss)\n",
    "  \n",
    "  # Compute the similarity between minibatch examples and all embeddings.\n",
    "  # We use the cosine distance:\n",
    "  norm = tf.sqrt(tf.reduce_sum(tf.square(embeddings), 1, keep_dims=True))\n",
    "  normalized_embeddings = embeddings / norm\n",
    "  valid_embeddings = tf.nn.embedding_lookup(\n",
    "    normalized_embeddings, valid_dataset)\n",
    "  similarity = tf.matmul(valid_embeddings, tf.transpose(normalized_embeddings))"
   ]
  },
  {
   "cell_type": "code",
   "execution_count": 11,
   "metadata": {
    "cellView": "both",
    "colab": {
     "autoexec": {
      "startup": false,
      "wait_interval": 0
     },
     "output_extras": [
      {
       "item_id": 23
      },
      {
       "item_id": 48
      },
      {
       "item_id": 61
      }
     ]
    },
    "colab_type": "code",
    "collapsed": false,
    "executionInfo": {
     "elapsed": 436189,
     "status": "ok",
     "timestamp": 1445965429787,
     "user": {
      "color": "#1FA15D",
      "displayName": "Vincent Vanhoucke",
      "isAnonymous": false,
      "isMe": true,
      "permissionId": "05076109866853157986",
      "photoUrl": "//lh6.googleusercontent.com/-cCJa7dTDcgQ/AAAAAAAAAAI/AAAAAAAACgw/r2EZ_8oYer4/s50-c-k-no/photo.jpg",
      "sessionId": "2f1ffade4c9f20de",
      "userId": "102167687554210253930"
     },
     "user_tz": 420
    },
    "id": "1bQFGceBxrWW",
    "outputId": "5ebd6d9a-33c6-4bcd-bf6d-252b0b6055e4"
   },
   "outputs": [
    {
     "name": "stdout",
     "output_type": "stream",
     "text": [
      "Initialized\n",
      "Average loss at step 0: 7.899043\n",
      "Nearest to four: nominate, swarm, unipolar, denarius, statement, ivens, informs, flory,\n",
      "Nearest to seven: acetate, cliches, metamorphic, flotilla, hotspots, lookout, invention, iceberg,\n",
      "Nearest to nine: gage, criticises, wu, operettas, bronze, courtyard, auger, recordable,\n",
      "Nearest to five: threatening, wigs, ip, propelling, overdoses, circling, gypsum, latency,\n",
      "Nearest to have: funk, dollars, hold, pye, demoscene, betty, commodores, cars,\n",
      "Nearest to by: annulment, greenstone, aleksander, grievances, bulletproof, hexer, diena, animists,\n",
      "Nearest to so: vyasa, crisis, cumming, metal, spaces, maj, barred, dominate,\n",
      "Nearest to but: longitudinal, richardson, guernsey, fijian, cernan, divergences, rothbard, represent,\n",
      "Nearest to system: borer, deprogramming, attenborough, fs, diffusion, hereafter, joaqu, imdb,\n",
      "Nearest to has: ductile, mammal, wattle, disbandment, gifs, rossi, saturdays, bistable,\n",
      "Nearest to not: ade, lionhead, mahindra, thereafter, groundwater, analgesics, airborne, ordaining,\n",
      "Nearest to american: getz, sanctioned, meiosis, mathematicians, flaminius, jon, amaranthus, historiography,\n",
      "Nearest to up: linkin, ak, ath, ingram, infuriated, kirlian, monosaccharides, termini,\n",
      "Nearest to first: constants, now, parc, swedes, remedial, olney, sterilized, deductive,\n",
      "Nearest to two: buccaneer, beatboxing, shout, underpinning, musicology, poisonous, interrogative, mulholland,\n",
      "Nearest to three: abruzzo, developments, tartaric, montreal, tatar, beyer, ccny, asatru,\n",
      "Average loss at step 2000: 4.364572\n",
      "Average loss at step 4000: 3.863530\n",
      "Average loss at step 6000: 3.788061\n",
      "Average loss at step 8000: 3.685228\n",
      "Average loss at step 10000: 3.618498\n",
      "Nearest to four: six, eight, three, five, seven, zero, nine, two,\n",
      "Nearest to seven: eight, six, three, five, nine, four, zero, two,\n",
      "Nearest to nine: eight, six, seven, zero, five, four, three, two,\n",
      "Nearest to five: six, eight, three, four, seven, nine, zero, two,\n",
      "Nearest to have: had, are, be, has, betty, were, secrete, hold,\n",
      "Nearest to by: was, on, symmetrical, be, as, greenstone, from, been,\n",
      "Nearest to so: if, hexameter, rebranded, crisis, ubangi, barred, maj, originally,\n",
      "Nearest to but: longitudinal, although, divergences, magnitudes, bethlehem, stain, chefs, veritas,\n",
      "Nearest to system: attenborough, borer, satisfiable, deprogramming, metz, silicates, abyssinia, joaqu,\n",
      "Nearest to has: had, was, have, is, mammal, anabaptism, ductile, lamarckian,\n",
      "Nearest to not: we, who, they, it, ade, to, also, groundwater,\n",
      "Nearest to american: and, french, evils, barge, getz, aromas, unscathed, lifes,\n",
      "Nearest to up: termini, ingram, commanding, mcvie, kirlian, omnivores, clarified, bithynia,\n",
      "Nearest to first: crested, cpus, antelope, parc, under, accessed, motorbikes, icc,\n",
      "Nearest to two: three, five, six, seven, four, zero, eight, one,\n",
      "Nearest to three: four, six, eight, five, seven, two, zero, nine,\n",
      "Average loss at step 12000: 3.604934\n",
      "Average loss at step 14000: 3.575232\n",
      "Average loss at step 16000: 3.402577\n",
      "Average loss at step 18000: 3.456256\n",
      "Average loss at step 20000: 3.534764\n",
      "Nearest to four: three, five, seven, six, eight, two, nine, zero,\n",
      "Nearest to seven: eight, six, three, four, nine, five, two, zero,\n",
      "Nearest to nine: eight, seven, six, four, five, zero, three, two,\n",
      "Nearest to five: four, seven, three, six, zero, eight, two, nine,\n",
      "Nearest to have: had, has, were, be, are, betty, lemming, visited,\n",
      "Nearest to by: be, aelian, symmetrical, chechen, for, stanza, against, commuted,\n",
      "Nearest to so: if, originally, hexameter, ailing, rebranded, sf, schuschnigg, coco,\n",
      "Nearest to but: however, although, when, which, before, and, that, is,\n",
      "Nearest to system: attenborough, borer, sefirot, metz, deprogramming, ecclestone, joaqu, collier,\n",
      "Nearest to has: had, have, is, was, lamarckian, benefited, nagy, mammal,\n",
      "Nearest to not: they, also, we, it, to, who, yesterday, groundwater,\n",
      "Nearest to american: british, german, french, evils, english, aromas, lifes, barge,\n",
      "Nearest to up: disrepair, back, omnivores, burney, termini, routed, clarified, commanding,\n",
      "Nearest to first: last, following, next, crested, silky, second, antelope, run,\n",
      "Nearest to two: three, four, five, seven, six, eight, one, zero,\n",
      "Nearest to three: four, seven, five, two, six, eight, nine, zero,\n",
      "Average loss at step 22000: 3.506801\n",
      "Average loss at step 24000: 3.485942\n",
      "Average loss at step 26000: 3.478942\n",
      "Average loss at step 28000: 3.481497\n",
      "Average loss at step 30000: 3.503069\n",
      "Nearest to four: six, eight, three, seven, five, two, nine, zero,\n",
      "Nearest to seven: eight, six, four, nine, five, three, two, zero,\n",
      "Nearest to nine: eight, seven, six, five, four, three, zero, two,\n",
      "Nearest to five: four, eight, six, seven, three, zero, nine, two,\n",
      "Nearest to have: had, has, were, are, be, visited, hold, secrete,\n",
      "Nearest to by: was, chechen, against, commuted, molotov, steppe, were, in,\n",
      "Nearest to so: if, originally, hexameter, schuschnigg, thessalonians, garnered, chiefdoms, crisis,\n",
      "Nearest to but: however, although, when, that, and, malayalam, which, though,\n",
      "Nearest to system: systems, attenborough, metz, supplant, bastille, joaqu, satisfiable, ahijah,\n",
      "Nearest to has: had, have, is, was, reconstructions, boric, intuitive, mammal,\n",
      "Nearest to not: they, rediscovered, also, to, generally, never, still, it,\n",
      "Nearest to american: british, french, german, italian, australian, dutch, english, levied,\n",
      "Nearest to up: him, back, off, breathy, omnivores, out, instinctively, disrepair,\n",
      "Nearest to first: last, second, next, following, same, silky, run, marple,\n",
      "Nearest to two: three, four, one, seven, five, six, eight, zero,\n",
      "Nearest to three: four, seven, two, five, eight, six, zero, nine,\n",
      "Average loss at step 32000: 3.504559\n",
      "Average loss at step 34000: 3.490494\n",
      "Average loss at step 36000: 3.452101\n",
      "Average loss at step 38000: 3.298724\n",
      "Average loss at step 40000: 3.429873\n",
      "Nearest to four: six, three, seven, eight, five, two, nine, one,\n",
      "Nearest to seven: eight, five, six, nine, four, three, zero, two,\n",
      "Nearest to nine: eight, seven, six, five, four, zero, three, two,\n",
      "Nearest to five: seven, six, three, four, eight, nine, zero, two,\n",
      "Nearest to have: had, has, were, are, be, secrete, beit, hold,\n",
      "Nearest to by: chechen, stanza, nonverbal, with, hiller, unu, aelian, charismatic,\n",
      "Nearest to so: if, it, hexameter, liturgy, garnered, originally, dara, sai,\n",
      "Nearest to but: however, although, and, while, it, which, when, choral,\n",
      "Nearest to system: systems, attenborough, supplant, authority, briefcase, ahijah, saccharomyces, distributing,\n",
      "Nearest to has: had, have, was, is, reconstructions, boric, restroom, punch,\n",
      "Nearest to not: they, usually, generally, also, often, rediscovered, it, still,\n",
      "Nearest to american: french, australian, german, british, italian, english, austrian, dutch,\n",
      "Nearest to up: off, out, him, back, them, disrepair, encounter, demilitarized,\n",
      "Nearest to first: last, second, next, run, same, pyramidal, crested, suriname,\n",
      "Nearest to two: three, four, five, six, seven, one, eight, zero,\n",
      "Nearest to three: four, two, seven, five, six, eight, nine, zero,\n",
      "Average loss at step 42000: 3.436492\n",
      "Average loss at step 44000: 3.451130\n",
      "Average loss at step 46000: 3.455030\n",
      "Average loss at step 48000: 3.353781\n",
      "Average loss at step 50000: 3.379488\n",
      "Nearest to four: six, seven, three, five, eight, nine, two, zero,\n",
      "Nearest to seven: six, eight, four, nine, five, three, zero, two,\n",
      "Nearest to nine: eight, seven, six, four, three, five, zero, two,\n",
      "Nearest to five: six, four, seven, eight, three, zero, two, nine,\n",
      "Nearest to have: had, has, were, be, are, secrete, having, floppies,\n",
      "Nearest to by: against, chechen, commuted, moreau, during, under, through, hiller,\n",
      "Nearest to so: if, sai, thessalonians, hymenoptera, dara, garnered, eliminated, minutemen,\n",
      "Nearest to but: however, although, while, and, when, though, where, since,\n",
      "Nearest to system: systems, coherent, attenborough, fathom, methuen, supplant, conformance, goodwin,\n",
      "Nearest to has: had, have, was, is, reconstructions, boric, having, does,\n",
      "Nearest to not: generally, usually, still, they, rediscovered, never, largely, almost,\n",
      "Nearest to american: french, australian, english, german, italian, installs, dutch, indian,\n",
      "Nearest to up: off, out, them, back, him, down, disrepair, rus,\n",
      "Nearest to first: last, second, next, final, same, chickasaw, under, pyramidal,\n",
      "Nearest to two: three, six, four, one, five, seven, eight, zero,\n",
      "Nearest to three: four, six, seven, eight, two, five, nine, zero,\n",
      "Average loss at step 52000: 3.439683\n",
      "Average loss at step 54000: 3.423885\n",
      "Average loss at step 56000: 3.438659\n",
      "Average loss at step 58000: 3.397037\n",
      "Average loss at step 60000: 3.389905\n",
      "Nearest to four: five, six, eight, seven, three, nine, two, zero,\n",
      "Nearest to seven: eight, six, five, four, nine, three, zero, two,\n",
      "Nearest to nine: eight, seven, six, five, four, zero, three, one,\n",
      "Nearest to five: four, six, seven, three, eight, zero, nine, two,\n",
      "Nearest to have: had, has, were, are, be, having, floppies, secrete,\n",
      "Nearest to by: chechen, with, crosses, commuted, while, reconstructions, charismatic, ningen,\n",
      "Nearest to so: if, transformed, sai, garnered, mugwort, equiv, dara, too,\n",
      "Nearest to but: although, however, and, though, or, which, breadth, than,\n",
      "Nearest to system: systems, coherent, definition, impossibility, supplant, tabulating, program, bricks,\n",
      "Nearest to has: had, have, is, was, having, reconstructions, ferromagnetic, wiener,\n",
      "Nearest to not: still, rediscovered, never, nor, usually, they, it, we,\n",
      "Nearest to american: australian, german, english, french, british, indian, italian, austrian,\n",
      "Nearest to up: off, out, them, back, down, him, relieves, demilitarized,\n",
      "Nearest to first: last, second, next, same, latter, yankovic, suriname, hispanic,\n",
      "Nearest to two: three, four, five, six, one, eight, seven, zero,\n",
      "Nearest to three: five, four, six, two, eight, seven, nine, zero,\n",
      "Average loss at step 62000: 3.240696\n",
      "Average loss at step 64000: 3.253818\n",
      "Average loss at step 66000: 3.402351\n",
      "Average loss at step 68000: 3.393067\n",
      "Average loss at step 70000: 3.355323\n",
      "Nearest to four: five, six, three, seven, eight, two, zero, nine,\n",
      "Nearest to seven: six, eight, five, four, nine, three, zero, two,\n",
      "Nearest to nine: eight, six, seven, five, four, zero, three, one,\n",
      "Nearest to five: four, seven, six, three, eight, zero, nine, two,\n",
      "Nearest to have: had, has, were, are, be, having, include, simplifies,\n",
      "Nearest to by: using, through, chechen, be, ishi, imparting, from, is,\n",
      "Nearest to so: if, dara, mugwort, accelerations, stouffer, too, kolingba, sai,\n",
      "Nearest to but: however, although, which, though, while, really, and, that,\n",
      "Nearest to system: systems, authority, coherent, program, bricks, dxf, attenborough, saccharomyces,\n",
      "Nearest to has: had, have, was, is, having, since, hdtv, visited,\n",
      "Nearest to not: still, never, usually, nor, rediscovered, now, always, garnering,\n",
      "Nearest to american: australian, british, english, german, indian, postmodernism, italian, french,\n",
      "Nearest to up: off, out, them, down, back, him, haj, demilitarized,\n",
      "Nearest to first: last, second, next, same, best, latter, final, suriname,\n",
      "Nearest to two: three, four, six, one, five, seven, eight, zero,\n",
      "Nearest to three: four, five, two, six, seven, eight, zero, nine,\n",
      "Average loss at step 72000: 3.371315\n",
      "Average loss at step 74000: 3.348676\n",
      "Average loss at step 76000: 3.322687\n",
      "Average loss at step 78000: 3.351883\n",
      "Average loss at step 80000: 3.375714\n",
      "Nearest to four: five, six, seven, three, eight, nine, two, zero,\n",
      "Nearest to seven: six, five, eight, four, nine, three, zero, two,\n",
      "Nearest to nine: eight, seven, five, six, four, three, zero, births,\n",
      "Nearest to five: six, four, seven, eight, three, nine, zero, two,\n",
      "Nearest to have: had, has, were, are, be, having, include, secrete,\n",
      "Nearest to by: chechen, through, under, fated, against, originally, aelian, using,\n",
      "Nearest to so: if, dara, accelerations, mugwort, ignoring, pathfinder, eliminated, sai,\n",
      "Nearest to but: however, although, while, and, though, biggs, see, than,\n",
      "Nearest to system: systems, program, fathom, bricks, conformance, attenborough, judge, goodwin,\n",
      "Nearest to has: had, have, is, was, having, since, morel, erratic,\n",
      "Nearest to not: still, usually, nor, always, largely, actually, generally, almost,\n",
      "Nearest to american: british, french, australian, german, english, indian, italian, installs,\n",
      "Nearest to up: off, out, them, down, back, demilitarized, him, cyp,\n",
      "Nearest to first: last, second, next, final, same, third, suriname, worst,\n",
      "Nearest to two: three, six, four, seven, five, one, eight, zero,\n",
      "Nearest to three: four, five, six, seven, two, eight, zero, nine,\n",
      "Average loss at step 82000: 3.407432\n",
      "Average loss at step 84000: 3.408134\n",
      "Average loss at step 86000: 3.391137\n",
      "Average loss at step 88000: 3.348031\n",
      "Average loss at step 90000: 3.367105\n",
      "Nearest to four: five, seven, six, eight, three, two, nine, zero,\n",
      "Nearest to seven: eight, four, five, nine, six, three, zero, two,\n",
      "Nearest to nine: seven, eight, six, five, four, zero, three, two,\n",
      "Nearest to five: four, seven, six, eight, three, nine, two, zero,\n",
      "Nearest to have: had, has, are, were, having, be, include, lanphier,\n",
      "Nearest to by: through, when, under, chechen, shack, for, using, with,\n",
      "Nearest to so: dara, too, if, sai, beyond, accelerations, how, rhetorician,\n",
      "Nearest to but: however, although, and, though, while, they, it, she,\n",
      "Nearest to system: systems, bricks, bastille, program, judge, design, revolutionaries, tabulating,\n",
      "Nearest to has: had, have, is, was, since, having, novas, requires,\n",
      "Nearest to not: still, nor, we, largely, generally, they, actually, never,\n",
      "Nearest to american: french, british, australian, indian, german, italian, english, austrian,\n",
      "Nearest to up: off, out, them, down, back, him, rus, demilitarized,\n",
      "Nearest to first: last, second, next, same, best, yankovic, largest, leith,\n",
      "Nearest to two: three, four, six, five, seven, one, eight, zero,\n",
      "Nearest to three: five, two, four, seven, six, eight, zero, nine,\n",
      "Average loss at step 92000: 3.398381\n",
      "Average loss at step 94000: 3.250564\n",
      "Average loss at step 96000: 3.355309\n",
      "Average loss at step 98000: 3.239431\n",
      "Average loss at step 100000: 3.353480\n",
      "Nearest to four: six, seven, five, eight, three, two, zero, nine,\n",
      "Nearest to seven: eight, six, four, five, nine, three, two, zero,\n",
      "Nearest to nine: eight, seven, six, four, five, zero, three, squadron,\n",
      "Nearest to five: six, four, seven, eight, two, three, zero, nine,\n",
      "Nearest to have: had, has, be, are, were, include, secrete, having,\n",
      "Nearest to by: through, when, gunman, ishi, mombasa, without, been, fated,\n",
      "Nearest to so: then, thus, if, too, dara, when, sai, sometimes,\n",
      "Nearest to but: however, although, though, and, while, probably, where, looked,\n",
      "Nearest to system: systems, program, bricks, judge, coherent, dxf, jelly, problem,\n",
      "Nearest to has: had, have, is, was, since, having, mismatch, erratic,\n",
      "Nearest to not: always, still, never, nor, largely, almost, syngman, garnering,\n",
      "Nearest to american: british, australian, italian, french, canadian, indian, quart, cupola,\n",
      "Nearest to up: off, out, back, down, them, him, alembert, demilitarized,\n",
      "Nearest to first: last, second, next, third, final, same, fourth, best,\n",
      "Nearest to two: five, four, three, six, seven, one, eight, zero,\n",
      "Nearest to three: six, five, four, seven, two, eight, zero, one,\n"
     ]
    }
   ],
   "source": [
    "num_steps = 100001\n",
    "\n",
    "with tf.Session(graph=graph) as session:\n",
    "  tf.initialize_all_variables().run()\n",
    "  print('Initialized')\n",
    "  average_loss = 0\n",
    "  for step in range(num_steps):\n",
    "    batch_data, batch_labels = generate_batch(\n",
    "      batch_size, num_skips, skip_window)\n",
    "    feed_dict = {train_dataset : batch_data, train_labels : batch_labels}\n",
    "    _, l = session.run([optimizer, loss], feed_dict=feed_dict)\n",
    "    average_loss += l\n",
    "    if step % 2000 == 0:\n",
    "      if step > 0:\n",
    "        average_loss = average_loss / 2000\n",
    "      # The average loss is an estimate of the loss over the last 2000 batches.\n",
    "      print('Average loss at step %d: %f' % (step, average_loss))\n",
    "      average_loss = 0\n",
    "    # note that this is expensive (~20% slowdown if computed every 500 steps)\n",
    "    if step % 10000 == 0:\n",
    "      sim = similarity.eval()\n",
    "      for i in xrange(valid_size):\n",
    "        valid_word = reverse_dictionary[valid_examples[i]]\n",
    "        top_k = 8 # number of nearest neighbors\n",
    "        nearest = (-sim[i, :]).argsort()[1:top_k+1]\n",
    "        log = 'Nearest to %s:' % valid_word\n",
    "        for k in xrange(top_k):\n",
    "          close_word = reverse_dictionary[nearest[k]]\n",
    "          log = '%s %s,' % (log, close_word)\n",
    "        print(log)\n",
    "  final_embeddings = normalized_embeddings.eval()"
   ]
  },
  {
   "cell_type": "code",
   "execution_count": 12,
   "metadata": {
    "cellView": "both",
    "colab": {
     "autoexec": {
      "startup": false,
      "wait_interval": 0
     }
    },
    "colab_type": "code",
    "collapsed": true,
    "id": "jjJXYA_XzV79"
   },
   "outputs": [],
   "source": [
    "num_points = 400\n",
    "\n",
    "tsne = TSNE(perplexity=30, n_components=2, init='pca', n_iter=5000)\n",
    "two_d_embeddings = tsne.fit_transform(final_embeddings[1:num_points+1, :])"
   ]
  },
  {
   "cell_type": "code",
   "execution_count": 13,
   "metadata": {
    "cellView": "both",
    "colab": {
     "autoexec": {
      "startup": false,
      "wait_interval": 0
     },
     "output_extras": [
      {
       "item_id": 1
      }
     ]
    },
    "colab_type": "code",
    "collapsed": false,
    "executionInfo": {
     "elapsed": 4763,
     "status": "ok",
     "timestamp": 1445965465525,
     "user": {
      "color": "#1FA15D",
      "displayName": "Vincent Vanhoucke",
      "isAnonymous": false,
      "isMe": true,
      "permissionId": "05076109866853157986",
      "photoUrl": "//lh6.googleusercontent.com/-cCJa7dTDcgQ/AAAAAAAAAAI/AAAAAAAACgw/r2EZ_8oYer4/s50-c-k-no/photo.jpg",
      "sessionId": "2f1ffade4c9f20de",
      "userId": "102167687554210253930"
     },
     "user_tz": 420
    },
    "id": "o_e0D_UezcDe",
    "outputId": "df22e4a5-e8ec-4e5e-d384-c6cf37c68c34"
   },
   "outputs": [
    {
     "ename": "SystemExit",
     "evalue": "0",
     "output_type": "error",
     "traceback": [
      "An exception has occurred, use %tb to see the full traceback.\n",
      "\u001b[0;31mSystemExit\u001b[0m\u001b[0;31m:\u001b[0m 0\n"
     ]
    },
    {
     "name": "stderr",
     "output_type": "stream",
     "text": [
      "To exit: use 'exit', 'quit', or Ctrl-D.\n"
     ]
    }
   ],
   "source": [
    "def plot(embeddings, labels):\n",
    "  assert embeddings.shape[0] >= len(labels), 'More labels than embeddings'\n",
    "  pylab.figure(figsize=(15,15))  # in inches\n",
    "  for i, label in enumerate(labels):\n",
    "    x, y = embeddings[i,:]\n",
    "    pylab.scatter(x, y)\n",
    "    pylab.annotate(label, xy=(x, y), xytext=(5, 2), textcoords='offset points',\n",
    "                   ha='right', va='bottom')\n",
    "  pylab.show()\n",
    "\n",
    "words = [reverse_dictionary[i] for i in range(1, num_points+1)]\n",
    "plot(two_d_embeddings, words)"
   ]
  },
  {
   "cell_type": "markdown",
   "metadata": {
    "colab_type": "text",
    "id": "QB5EFrBnpNnc"
   },
   "source": [
    "---\n",
    "\n",
    "Problem\n",
    "-------\n",
    "\n",
    "An alternative to Word2Vec is called [CBOW](http://arxiv.org/abs/1301.3781) (Continuous Bag of Words). In the CBOW model, instead of predicting a context word from a word vector, you predict a word from the sum of all the word vectors in its context. Implement and evaluate a CBOW model trained on the text8 dataset.\n",
    "\n",
    "---"
   ]
  }
 ],
 "metadata": {
  "colab": {
   "default_view": {},
   "name": "5_word2vec.ipynb",
   "provenance": [],
   "version": "0.3.2",
   "views": {}
  },
  "kernelspec": {
   "display_name": "Python 2",
   "language": "python",
   "name": "python2"
  },
  "language_info": {
   "codemirror_mode": {
    "name": "ipython",
    "version": 2
   },
   "file_extension": ".py",
   "mimetype": "text/x-python",
   "name": "python",
   "nbconvert_exporter": "python",
   "pygments_lexer": "ipython2",
   "version": "2.7.10"
  }
 },
 "nbformat": 4,
 "nbformat_minor": 0
}
